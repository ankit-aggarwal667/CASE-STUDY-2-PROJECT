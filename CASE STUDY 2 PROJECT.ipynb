{
 "cells": [
  {
   "cell_type": "markdown",
   "metadata": {},
   "source": [
    "### 1. Your Friend has developed the Product and he wants to establish the product startup and he is searching for a perfect location where getting the investment has a high chance. But due to its financial restriction, he can choose only between three locations -  Bangalore, Mumbai, and NCR. As a friend, you want to help your friend deciding the location. NCR include Gurgaon, Noida and New Delhi. Find the location where the most number of funding is done. That means, find the location where startups has received funding maximum number of times. Plot the bar graph between location and number of funding. Take city name \"Delhi\" as \"New Delhi\". Check the case-sensitiveness of cities also. That means, at some place instead of \"Bangalore\", \"bangalore\" is given. Take city name as \"Bangalore\". For few startups multiple locations are given, one Indian and one Foreign. Consider the startup if any one of the city lies in given locations."
   ]
  },
  {
   "cell_type": "code",
   "execution_count": 2,
   "metadata": {},
   "outputs": [
    {
     "name": "stdout",
     "output_type": "stream",
     "text": [
      "Bangalore 412\n",
      "Mumbai 303\n",
      "New Delhi 215\n",
      "Gurgaon 166\n",
      "Noida 46\n"
     ]
    },
    {
     "data": {
      "image/png": "[encoded data removed]",
      "text/plain": [
       "<Figure size 432x288 with 1 Axes>"
      ]
     },
     "metadata": {
      "needs_background": "light"
     },
     "output_type": "display_data"
    }
   ],
   "source": [
    "import pandas as pd\n",
    "import numpy as np\n",
    "import matplotlib.pyplot as plt\n",
    "iris=pd.read_csv('C:/Users/Ankit Aggarwal/Desktop/startup_funding.csv')\n",
    "df=iris.copy()\n",
    "df['CityLocation'].replace(np.nan,'',inplace=True)\n",
    "df['AmountInUSD'].replace(np.nan,0,inplace=True)\n",
    "df['CityLocation'].replace(\"Delhi\",\"New Delhi\",inplace=True)\n",
    "df['CityLocation'].replace(\"bangalore\",\"Bangalore\",inplace=True)\n",
    "def separateCity(city):\n",
    "    return city.split('/')[0].strip()\n",
    "df['newCityLocation']=df['CityLocation'].apply(separateCity)\n",
    "def f1(s):\n",
    "    if s==0:\n",
    "        return s\n",
    "    k=''\n",
    "    a=s.split(',')\n",
    "    for i in a:\n",
    "        k+=i\n",
    "    return int(k)\n",
    "df['amount']=df['AmountInUSD'].apply(f1)\n",
    "def f2(s):\n",
    "    if s!='':\n",
    "        return s\n",
    "df['newCityLocation']=df['newCityLocation'].apply(f2)\n",
    "ef=df['newCityLocation'].value_counts()\n",
    "totalcity=ef.index\n",
    "no_of_funding=[]\n",
    "finalcity=[]\n",
    "finalnumber=[]\n",
    "for i in totalcity:\n",
    "    \n",
    "    nf=df[df['newCityLocation']==i]\n",
    "    tf=nf[nf['amount']!=0]\n",
    "    netcount=tf['amount'].count()\n",
    "    no_of_funding.append(netcount)\n",
    "for i in range(len(totalcity)):\n",
    "    if totalcity[i]=='Bangalore':\n",
    "        finalcity.append(totalcity[i])\n",
    "        finalnumber.append(no_of_funding[i])\n",
    "    elif totalcity[i]=='Mumbai':\n",
    "        finalcity.append(totalcity[i])\n",
    "        finalnumber.append(no_of_funding[i])\n",
    "    elif totalcity[i]=='Gurgaon':\n",
    "        finalcity.append(totalcity[i])\n",
    "        finalnumber.append(no_of_funding[i])\n",
    "    elif totalcity[i]=='Noida':\n",
    "        finalcity.append(totalcity[i])\n",
    "        finalnumber.append(no_of_funding[i])\n",
    "    elif totalcity[i]=='New Delhi':\n",
    "        finalcity.append(totalcity[i])\n",
    "        finalnumber.append(no_of_funding[i])\n",
    "for i in range(len(finalcity)):\n",
    "    print(finalcity[i],finalnumber[i])\n",
    "plt.bar(finalcity,finalnumber)\n",
    "plt.xlabel('CITY')\n",
    "plt.ylabel('NO_OF_FUNDING')\n",
    "plt.show()"
   ]
  },
  {
   "cell_type": "code",
   "execution_count": null,
   "metadata": {},
   "outputs": [],
   "source": []
  },
  {
   "cell_type": "markdown",
   "metadata": {},
   "source": [
    "### 2. Even after trying for so many times, your friend’s startup could not find the investment. So you decided to take this matter in your hand and try to find the list of investors who probably can invest in your friend’s startup. Your list will increase the chance of your friend startup getting some initial investment by contacting these investors. Find the top 5 investors who have invested maximum number of times (consider repeat investments in one company also). In a startup, multiple investors might have invested. So consider each investor for that startup. Ignore undisclosed investors."
   ]
  },
  {
   "cell_type": "code",
   "execution_count": 3,
   "metadata": {},
   "outputs": [
    {
     "name": "stdout",
     "output_type": "stream",
     "text": [
      "Sequoia Capital\n",
      "Accel Partners\n",
      "Kalaari Capital\n",
      "SAIF Partners\n",
      "Indian Angel Network\n"
     ]
    },
    {
     "data": {
      "image/png": "[encoded data removed]",
      "text/plain": [
       "<Figure size 432x288 with 1 Axes>"
      ]
     },
     "metadata": {},
     "output_type": "display_data"
    }
   ],
   "source": [
    "import numpy as np\n",
    "import pandas as pd\n",
    "import matplotlib.pyplot as plt\n",
    "iris=pd.read_csv('C:/Users/Ankit Aggarwal/Desktop/startup_funding.csv')\n",
    "df=iris.copy()\n",
    "df['InvestorsName'].replace(np.nan,'',inplace=True)\n",
    "totalinvestor=[]\n",
    "investorsdict={}\n",
    "top_5_investor=[]\n",
    "top_5_investments=[]\n",
    "li=[]\n",
    "for i in df.InvestorsName:\n",
    "    totalinvestor.append(i)\n",
    "for i in totalinvestor:\n",
    "    if i!='':\n",
    "        k=i.split(',')\n",
    "        for j in k:\n",
    "            li.append(j.strip())\n",
    "for k in li:\n",
    "    if k in investorsdict:\n",
    "        investorsdict[k]+=1\n",
    "    else:\n",
    "        investorsdict[k]=1\n",
    "for i in range(5):\n",
    "    maxi=-99999\n",
    "    for i in investorsdict:\n",
    "        if i!='':\n",
    "            if investorsdict[i]>maxi:\n",
    "                maxi=investorsdict[i]\n",
    "                investor=i\n",
    "    top_5_investor.append(investor)\n",
    "    top_5_investments.append(maxi)\n",
    "    investorsdict[investor]=-999999999\n",
    "for i in top_5_investor:\n",
    "    print(i)\n",
    "plt.pie(top_5_investments,labels=top_5_investor,autopct='%.2f%%')\n",
    "plt.title('TOP INVESTORS')\n",
    "plt.show()"
   ]
  },
  {
   "cell_type": "code",
   "execution_count": null,
   "metadata": {},
   "outputs": [],
   "source": []
  },
  {
   "cell_type": "markdown",
   "metadata": {},
   "source": [
    "### 3.After re-analysing the dataset you found out that some investors have invested in the same startup at different number of funding rounds. So before finalising the previous list, you want to improvise it by finding the top 5 investors who have invested in different number of startups. This list will be more helpful than your previous list in finding the investment for your friend startup. Find the top 5 investors who have invested maximum number of times in different companies. That means, if one investor has invested multiple times in one startup, count one for that company. There are many errors in startup names. Ignore correcting all, just handle the important ones - Ola, Flipkart, Oyo and Paytm."
   ]
  },
  {
   "cell_type": "code",
   "execution_count": 4,
   "metadata": {},
   "outputs": [
    {
     "name": "stdout",
     "output_type": "stream",
     "text": [
      "Sequoia Capital\n",
      "Accel Partners\n",
      "Kalaari Capital\n",
      "Indian Angel Network\n",
      "Blume Ventures\n"
     ]
    },
    {
     "data": {
      "image/png": "[encoded data removed]",
      "text/plain": [
       "<Figure size 432x288 with 1 Axes>"
      ]
     },
     "metadata": {
      "needs_background": "light"
     },
     "output_type": "display_data"
    }
   ],
   "source": [
    "import numpy as np\n",
    "import pandas as pd\n",
    "import matplotlib.pyplot as plt\n",
    "iris=pd.read_csv('C:/Users/Ankit Aggarwal/Desktop/startup_funding.csv')\n",
    "df=iris.copy()\n",
    "allinvestors=[]\n",
    "finalinvestorsdict={}\n",
    "top_5_investor=[]\n",
    "top_5_investments=[]\n",
    "df.StartupName.replace(\"Oyo Rooms\",\"Oyo\",inplace = True)\n",
    "df.StartupName.replace(\"OyoRooms\",\"Oyo\",inplace = True)\n",
    "df.StartupName.replace(\"OYO Rooms\",\"Oyo\",inplace = True)\n",
    "df.StartupName.replace(\"Oyorooms\",\"Oyo\",inplace = True)\n",
    "df.StartupName.replace(\"Ola Cabs\",\"Ola\",inplace = True)\n",
    "df.StartupName.replace(\"Olacabs\",\"Ola\",inplace = True)\n",
    "df.StartupName.replace(\"Flipkart.com\",\"Flipkart\",inplace = True)\n",
    "df.StartupName.replace(\"Paytm Marketplace\",\"Paytm\",inplace = True)\n",
    "df.StartupName.replace(np.nan,'',inplace=True)\n",
    "df.InvestorsName.replace(np.nan,'',inplace=True)\n",
    "val=df.StartupName.value_counts()\n",
    "totstartup=val.index\n",
    "for i in totstartup:\n",
    "    if i!='':\n",
    "        totalinvestors=[]\n",
    "        s=set()\n",
    "        li=[]\n",
    "        ef=df[df['StartupName']==i]\n",
    "        for i in ef.InvestorsName:\n",
    "            if i!='':\n",
    "                totalinvestors.append(i)\n",
    "        for i in totalinvestors:\n",
    "            if i!='':\n",
    "                k=i.split(',')\n",
    "                for j in k:\n",
    "                    li.append(j.strip())\n",
    "    s=set(li)\n",
    "    allinvestors.append(s)\n",
    "    \n",
    "for i in allinvestors:\n",
    "    for j in i:\n",
    "        if j in finalinvestorsdict:\n",
    "            finalinvestorsdict[j]+=1\n",
    "        else:\n",
    "            finalinvestorsdict[j]=1\n",
    "\n",
    "for i in range(5):\n",
    "    maxi=-99999\n",
    "    for i in finalinvestorsdict:\n",
    "        if i!='':\n",
    "            if finalinvestorsdict[i]>maxi:\n",
    "                maxi=finalinvestorsdict[i]\n",
    "                investor=i\n",
    "    top_5_investor.append(investor)\n",
    "    top_5_investments.append(maxi)\n",
    "    finalinvestorsdict[investor]=-999999999\n",
    "\n",
    "for i in top_5_investor:\n",
    "    print(i)\n",
    "plt.bar(top_5_investor,top_5_investments,color='pink')\n",
    "plt.xticks(rotation=40)\n",
    "plt.xlabel('Top 5 Investors')\n",
    "plt.ylabel('No_Of_Investment')\n",
    "plt.title('TOP INVESTORS')\n",
    "plt.show()\n",
    "\n",
    "        "
   ]
  },
  {
   "cell_type": "code",
   "execution_count": null,
   "metadata": {},
   "outputs": [],
   "source": []
  },
  {
   "cell_type": "markdown",
   "metadata": {},
   "source": [
    "### 4.Even after putting so much effort in finding the probable investors, it didn't turn out to be helpful for your friend. So you went to your investor friend to understand the situation better and your investor friend explained to you about the different Investment Types and their features. This new information will be helpful in finding the right investor. Since your friend startup is at an early stage startup, the best-suited investment type would be - Seed Funding and Crowdfunding. Find the top 5 investors who have invested in a different number of startups and their investment type is Crowdfunding or Seed Funding. Correct spelling of investment types are - \"Private Equity\", \"Seed Funding\", \"Debt Funding\", and \"Crowd Funding\". Keep an eye for any spelling mistake. You can find this by printing unique values from this column. There are many errors in startup names. Ignore correcting all, just handle the important ones - Ola, Flipkart, Oyo and Paytm."
   ]
  },
  {
   "cell_type": "code",
   "execution_count": 6,
   "metadata": {},
   "outputs": [
    {
     "name": "stdout",
     "output_type": "stream",
     "text": [
      "Indian Angel Network\n",
      "Rajan Anandan\n",
      "LetsVenture\n",
      "Anupam Mittal\n",
      "Kunal Shah\n"
     ]
    },
    {
     "data": {
      "image/png": "[encoded data removed]",
      "text/plain": [
       "<Figure size 432x288 with 1 Axes>"
      ]
     },
     "metadata": {},
     "output_type": "display_data"
    }
   ],
   "source": [
    "import numpy as np\n",
    "import pandas as pd\n",
    "import matplotlib.pyplot as plt\n",
    "iris=pd.read_csv('C:/Users/Ankit Aggarwal/Desktop/startup_funding.csv')\n",
    "df=iris.copy()\n",
    "allinvestors=[]\n",
    "finalinvestorsdict={}\n",
    "top_5_investor=[]\n",
    "top_5_investments=[]\n",
    "df.StartupName.replace(\"Oyo Rooms\",\"Oyo\",inplace = True)\n",
    "df.StartupName.replace(\"OyoRooms\",\"Oyo\",inplace = True)\n",
    "df.StartupName.replace(\"OYO Rooms\",\"Oyo\",inplace = True)\n",
    "df.StartupName.replace(\"Oyorooms\",\"Oyo\",inplace = True)\n",
    "df.StartupName.replace(\"Ola Cabs\",\"Ola\",inplace = True)\n",
    "df.StartupName.replace(\"Olacabs\",\"Ola\",inplace = True)\n",
    "df.StartupName.replace(\"Flipkart.com\",\"Flipkart\",inplace = True)\n",
    "df.StartupName.replace(\"Paytm Marketplace\",\"Paytm\",inplace = True)\n",
    "df.InvestmentType.replace('Crowd funding','Crowd Funding',inplace=True)\n",
    "df.InvestmentType.replace('PrivateEquity','Private Equity',inplace=True)\n",
    "df.InvestmentType.replace('SeedFunding','Seed Funding',inplace=True)\n",
    "df.InvestorsName.replace('Undisclosed investors','Undisclosed Investors',inplace=True)\n",
    "df.InvestorsName.replace('undisclosed investors','Undisclosed Investors',inplace=True)\n",
    "df.InvestorsName.replace('Undisclosed Investor','Undisclosed Investors',inplace=True)\n",
    "df.InvestorsName.replace('Undisclosed','Undisclosed Investors',inplace=True)\n",
    "df.InvestorsName.replace('Undisclosed investor','Undisclosed Investors',inplace=True)\n",
    "df.InvestorsName.replace('Undisclosed Investors','',inplace=True)\n",
    "df.StartupName.replace(np.nan,'',inplace=True)\n",
    "df.InvestorsName.replace(np.nan,'',inplace=True)\n",
    "ef=df[(df['InvestmentType']=='Seed Funding') | (df['InvestmentType']=='Crowd Funding')]\n",
    "val=ef.StartupName.value_counts()\n",
    "totstartup=val.index\n",
    "for i in totstartup:\n",
    "    if i!='':\n",
    "        totalinvestors=[]\n",
    "        s=set()\n",
    "        li=[]\n",
    "        gf=ef[ef['StartupName']==i]\n",
    "        for i in gf.InvestorsName:\n",
    "            if i!='':\n",
    "                totalinvestors.append(i)\n",
    "        for i in totalinvestors:\n",
    "            if i!='':\n",
    "                k=i.split(',')\n",
    "                for j in k:\n",
    "                    li.append(j.strip())\n",
    "    s=set(li)\n",
    "    allinvestors.append(s)\n",
    "    \n",
    "for i in allinvestors:\n",
    "    for j in i:\n",
    "        if j in finalinvestorsdict:\n",
    "            finalinvestorsdict[j]+=1\n",
    "        else:\n",
    "            finalinvestorsdict[j]=1\n",
    "\n",
    "for i in range(5):\n",
    "    maxi=-99999\n",
    "    for i in finalinvestorsdict:\n",
    "        if i!='':\n",
    "            if finalinvestorsdict[i]>maxi:\n",
    "                maxi=finalinvestorsdict[i]\n",
    "                investor=i\n",
    "    top_5_investor.append(investor)\n",
    "    top_5_investments.append(maxi)\n",
    "    finalinvestorsdict[investor]=-999999999\n",
    "\n",
    "for i in top_5_investor:\n",
    "    print(i)   \n",
    "plt.pie(top_5_investments,labels=top_5_investor,autopct='%.2f%%')\n",
    "plt.title('Top Investors')\n",
    "plt.show()"
   ]
  },
  {
   "cell_type": "code",
   "execution_count": null,
   "metadata": {},
   "outputs": [],
   "source": []
  },
  {
   "cell_type": "markdown",
   "metadata": {},
   "source": [
    "### 5.Due to your immense help, your friend startup successfully got seed funding and it is on the operational mode. Now your friend wants to expand his startup and he is looking for new investors for his startup. Now you again come as a saviour to help your friend and want to create a list of probable new new investors. Before moving forward you remember your investor friend advice that finding the investors by analysing the investment type. Since your friend startup is not in early phase it is in growth stage so the best-suited investment type is Private Equity. Find the top 5 investors who have invested in a different number of startups and their investment type is Private Equity. Correct spelling of investment types are - \"Private Equity\", \"Seed Funding\", \"Debt Funding\", and \"Crowd Funding\". Keep an eye for any spelling mistake. You can find this by printing unique values from this column.There are many errors in startup names. Ignore correcting all, just handle the important ones - Ola, Flipkart, Oyo and Paytm."
   ]
  },
  {
   "cell_type": "code",
   "execution_count": 7,
   "metadata": {},
   "outputs": [
    {
     "name": "stdout",
     "output_type": "stream",
     "text": [
      "Kalaari Capital\n",
      "SAIF Partners\n",
      "Accel Partners\n",
      "IDG Ventures\n",
      "Sequoia Capital\n"
     ]
    },
    {
     "data": {
      "image/png": "[encoded data removed]",
      "text/plain": [
       "<Figure size 432x288 with 1 Axes>"
      ]
     },
     "metadata": {
      "needs_background": "light"
     },
     "output_type": "display_data"
    }
   ],
   "source": [
    "import numpy as np\n",
    "import pandas as pd\n",
    "import matplotlib.pyplot as plt\n",
    "iris=pd.read_csv('C:/Users/Ankit Aggarwal/Desktop/startup_funding.csv')\n",
    "df=iris.copy()\n",
    "allinvestors=[]\n",
    "finalinvestorsdict={}\n",
    "top_5_investor=[]\n",
    "top_5_investments=[]\n",
    "df.StartupName.replace(\"Oyo Rooms\",\"Oyo\",inplace = True)\n",
    "df.StartupName.replace(\"OyoRooms\",\"Oyo\",inplace = True)\n",
    "df.StartupName.replace(\"OYO Rooms\",\"Oyo\",inplace = True)\n",
    "df.StartupName.replace(\"Oyorooms\",\"Oyo\",inplace = True)\n",
    "df.StartupName.replace(\"Ola Cabs\",\"Ola\",inplace = True)\n",
    "df.StartupName.replace(\"Olacabs\",\"Ola\",inplace = True)\n",
    "df.StartupName.replace(\"Flipkart.com\",\"Flipkart\",inplace = True)\n",
    "df.StartupName.replace(\"Paytm Marketplace\",\"Paytm\",inplace = True)\n",
    "df.InvestmentType.replace('Crowd funding','Crowd Funding',inplace=True)\n",
    "df.InvestmentType.replace('PrivateEquity','Private Equity',inplace=True)\n",
    "df.InvestmentType.replace('SeedFunding','Seed Funding',inplace=True)\n",
    "df.InvestorsName.replace('Undisclosed investors','Undisclosed Investors',inplace=True)\n",
    "df.InvestorsName.replace('undisclosed investors','Undisclosed Investors',inplace=True)\n",
    "df.InvestorsName.replace('Undisclosed Investor','Undisclosed Investors',inplace=True)\n",
    "df.InvestorsName.replace('Undisclosed','Undisclosed Investors',inplace=True)\n",
    "df.InvestorsName.replace('Undisclosed investor','Undisclosed Investors',inplace=True)\n",
    "df.InvestorsName.replace('Undisclosed Investors','',inplace=True)\n",
    "df.StartupName.replace(np.nan,'',inplace=True)\n",
    "df.InvestorsName.replace(np.nan,'',inplace=True)\n",
    "ef=df[(df['InvestmentType']=='Private Equity')]\n",
    "totstartup=val.index\n",
    "for i in totstartup:\n",
    "    if i!='':\n",
    "        totalinvestors=[]\n",
    "        s=set()\n",
    "        li=[]\n",
    "        gf=ef[ef['StartupName']==i]\n",
    "        for i in gf.InvestorsName:\n",
    "            if i!='':\n",
    "                totalinvestors.append(i)\n",
    "        for i in totalinvestors:\n",
    "            if i!='':\n",
    "                k=i.split(',')\n",
    "                for j in k:\n",
    "                    li.append(j.strip())\n",
    "    s=set(li)\n",
    "    allinvestors.append(s)\n",
    "    \n",
    "for i in allinvestors:\n",
    "    for j in i:\n",
    "        if j in finalinvestorsdict:\n",
    "            finalinvestorsdict[j]+=1\n",
    "        else:\n",
    "            finalinvestorsdict[j]=1\n",
    "\n",
    "for i in range(5):\n",
    "    maxi=-99999\n",
    "    for i in finalinvestorsdict:\n",
    "        if i!='':\n",
    "            if finalinvestorsdict[i]>maxi:\n",
    "                maxi=finalinvestorsdict[i]\n",
    "                investor=i\n",
    "    top_5_investor.append(investor)\n",
    "    top_5_investments.append(maxi)\n",
    "    finalinvestorsdict[investor]=-999999999\n",
    "\n",
    "for i in top_5_investor:\n",
    "    print(i)    \n",
    "plt.bar(top_5_investor,top_5_investments,color='red')\n",
    "plt.xticks(rotation=40)\n",
    "plt.title('Top Investors')\n",
    "plt.xlabel('Top 5 Investors')\n",
    "plt.ylabel('No_Of_Investments')\n",
    "plt.show()"
   ]
  },
  {
   "cell_type": "code",
   "execution_count": null,
   "metadata": {},
   "outputs": [],
   "source": []
  },
  {
   "cell_type": "code",
   "execution_count": null,
   "metadata": {},
   "outputs": [],
   "source": []
  },
  {
   "cell_type": "code",
   "execution_count": null,
   "metadata": {},
   "outputs": [],
   "source": []
  },
  {
   "cell_type": "code",
   "execution_count": null,
   "metadata": {},
   "outputs": [],
   "source": []
  },
  {
   "cell_type": "code",
   "execution_count": null,
   "metadata": {},
   "outputs": [],
   "source": []
  },
  {
   "cell_type": "code",
   "execution_count": null,
   "metadata": {},
   "outputs": [],
   "source": []
  },
  {
   "cell_type": "code",
   "execution_count": null,
   "metadata": {},
   "outputs": [],
   "source": []
  },
  {
   "cell_type": "code",
   "execution_count": null,
   "metadata": {},
   "outputs": [],
   "source": []
  },
  {
   "cell_type": "code",
   "execution_count": null,
   "metadata": {},
   "outputs": [],
   "source": []
  },
  {
   "cell_type": "code",
   "execution_count": null,
   "metadata": {},
   "outputs": [],
   "source": []
  },
  {
   "cell_type": "code",
   "execution_count": null,
   "metadata": {},
   "outputs": [],
   "source": []
  },
  {
   "cell_type": "code",
   "execution_count": null,
   "metadata": {},
   "outputs": [],
   "source": []
  },
  {
   "cell_type": "code",
   "execution_count": null,
   "metadata": {},
   "outputs": [],
   "source": []
  },
  {
   "cell_type": "code",
   "execution_count": null,
   "metadata": {},
   "outputs": [],
   "source": []
  },
  {
   "cell_type": "code",
   "execution_count": null,
   "metadata": {},
   "outputs": [],
   "source": []
  }
 ],
 "metadata": {
  "kernelspec": {
   "display_name": "Python 3",
   "language": "python",
   "name": "python3"
  },
  "language_info": {
   "codemirror_mode": {
    "name": "ipython",
    "version": 3
   },
   "file_extension": ".py",
   "mimetype": "text/x-python",
   "name": "python",
   "nbconvert_exporter": "python",
   "pygments_lexer": "ipython3",
   "version": "3.7.3"
  }
 },
 "nbformat": 4,
 "nbformat_minor": 2
}
